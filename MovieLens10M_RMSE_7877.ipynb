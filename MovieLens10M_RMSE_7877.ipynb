{
  "nbformat": 4,
  "nbformat_minor": 0,
  "metadata": {
    "colab": {
      "name": "MovieLens10M_RMSE_7877.ipynb",
      "provenance": [],
      "collapsed_sections": []
    },
    "kernelspec": {
      "name": "python3",
      "display_name": "Python 3"
    },
    "language_info": {
      "name": "python"
    }
  },
  "cells": [
    {
      "cell_type": "code",
      "metadata": {
        "colab": {
          "base_uri": "https://localhost:8080/"
        },
        "id": "6_UeyGir_6lg",
        "outputId": "d7f29144-c373-4cef-d1fd-e30e5b299a0a"
      },
      "source": [
        "pip install keras-rectified-adam"
      ],
      "execution_count": 1,
      "outputs": [
        {
          "output_type": "stream",
          "text": [
            "Collecting keras-rectified-adam\n",
            "  Downloading keras-rectified-adam-0.19.0.tar.gz (8.4 kB)\n",
            "Requirement already satisfied: numpy in /usr/local/lib/python3.7/dist-packages (from keras-rectified-adam) (1.19.5)\n",
            "Requirement already satisfied: Keras in /usr/local/lib/python3.7/dist-packages (from keras-rectified-adam) (2.4.3)\n",
            "Requirement already satisfied: h5py in /usr/local/lib/python3.7/dist-packages (from Keras->keras-rectified-adam) (3.1.0)\n",
            "Requirement already satisfied: scipy>=0.14 in /usr/local/lib/python3.7/dist-packages (from Keras->keras-rectified-adam) (1.4.1)\n",
            "Requirement already satisfied: pyyaml in /usr/local/lib/python3.7/dist-packages (from Keras->keras-rectified-adam) (3.13)\n",
            "Requirement already satisfied: cached-property in /usr/local/lib/python3.7/dist-packages (from h5py->Keras->keras-rectified-adam) (1.5.2)\n",
            "Building wheels for collected packages: keras-rectified-adam\n",
            "  Building wheel for keras-rectified-adam (setup.py) ... \u001b[?25l\u001b[?25hdone\n",
            "  Created wheel for keras-rectified-adam: filename=keras_rectified_adam-0.19.0-py3-none-any.whl size=9017 sha256=db98303c8c4016ed2524b9f1a4f8784d2264ec1ec2f8999c9b0777f6b533dd01\n",
            "  Stored in directory: /root/.cache/pip/wheels/52/1d/66/374c85b327ea412af5301b4811088408d9764314d6cfb8f127\n",
            "Successfully built keras-rectified-adam\n",
            "Installing collected packages: keras-rectified-adam\n",
            "Successfully installed keras-rectified-adam-0.19.0\n"
          ],
          "name": "stdout"
        }
      ]
    },
    {
      "cell_type": "code",
      "metadata": {
        "id": "Qd0JVqeKa2K2",
        "colab": {
          "base_uri": "https://localhost:8080/"
        },
        "outputId": "39f676fe-d801-4341-a9b7-cb3c1a9544d7"
      },
      "source": [
        "import keras\n",
        "import os, sys\n",
        "import numpy as np\n",
        "import pandas as pd\n",
        "import tensorflow as tf\n",
        "from google.colab import drive\n",
        "from sklearn.metrics import mean_squared_error\n",
        "from keras.models import Model\n",
        "from tensorflow.keras import regularizers\n",
        "from keras.layers import Flatten, Dense, Input, Embedding, Dot\n",
        "from keras.layers import GlobalAveragePooling1D, Dropout, BatchNormalization\n",
        "from keras.optimizers import Adam\n",
        "from keras_radam import RAdam\n",
        "\n",
        "drive.mount('/content/drive')"
      ],
      "execution_count": 2,
      "outputs": [
        {
          "output_type": "stream",
          "text": [
            "Mounted at /content/drive\n"
          ],
          "name": "stdout"
        }
      ]
    },
    {
      "cell_type": "code",
      "metadata": {
        "id": "ZLiUf7ck0-fh"
      },
      "source": [
        "movie = [i.strip().split(\"::\") for i in open(\"/content/drive/My Drive/MovieLens10M/movies.dat\").readlines()]\n",
        "movie = pd.DataFrame(movie)\n",
        "movie = movie.rename(columns={0: \"movieId\", 1: \"title\", 2: \"genres\"})\n",
        "rating = [i.strip().split(\"::\") for i in open(\"/content/drive/My Drive/MovieLens10M/ratings.dat\").readlines()]\n",
        "rating = pd.DataFrame(rating)\n",
        "rating = rating.rename(columns={0: \"userId\", 1: \"movieId\", 2: \"rating\", 3: \"timestamp\"})\n",
        "tags = [i.strip().split(\"::\") for i in open(\"/content/drive/My Drive/MovieLens10M/tags.dat\").readlines()]\n",
        "tags = pd.DataFrame(tags)\n",
        "tags = tags.rename(columns={0: \"userId\", 1: \"movieId\", 2: \"tag\", 3: \"timestamp\"})\n",
        "movie = movie.loc[:,[\"movieId\",\"genres\"]]\n",
        "rating = rating.loc[:,[\"userId\",\"movieId\",\"rating\",\"timestamp\"]]\n",
        "tags = tags.loc[:,[\"userId\",\"movieId\",\"tag\"]]\n",
        "data = pd.merge(rating, movie)"
      ],
      "execution_count": 3,
      "outputs": []
    },
    {
      "cell_type": "code",
      "metadata": {
        "colab": {
          "base_uri": "https://localhost:8080/",
          "height": 359
        },
        "id": "HgWrf0fCOapx",
        "outputId": "904effbe-4d7c-480c-f0c8-237dd311732c"
      },
      "source": [
        "tmp = pd.merge(data, tags)\n",
        "tmp.head(10)"
      ],
      "execution_count": 4,
      "outputs": [
        {
          "output_type": "execute_result",
          "data": {
            "text/html": [
              "<div>\n",
              "<style scoped>\n",
              "    .dataframe tbody tr th:only-of-type {\n",
              "        vertical-align: middle;\n",
              "    }\n",
              "\n",
              "    .dataframe tbody tr th {\n",
              "        vertical-align: top;\n",
              "    }\n",
              "\n",
              "    .dataframe thead th {\n",
              "        text-align: right;\n",
              "    }\n",
              "</style>\n",
              "<table border=\"1\" class=\"dataframe\">\n",
              "  <thead>\n",
              "    <tr style=\"text-align: right;\">\n",
              "      <th></th>\n",
              "      <th>userId</th>\n",
              "      <th>movieId</th>\n",
              "      <th>rating</th>\n",
              "      <th>timestamp</th>\n",
              "      <th>genres</th>\n",
              "      <th>tag</th>\n",
              "    </tr>\n",
              "  </thead>\n",
              "  <tbody>\n",
              "    <tr>\n",
              "      <th>0</th>\n",
              "      <td>30167</td>\n",
              "      <td>122</td>\n",
              "      <td>2</td>\n",
              "      <td>1065340321</td>\n",
              "      <td>Comedy|Romance</td>\n",
              "      <td>Nudity (Topless - Brief)</td>\n",
              "    </tr>\n",
              "    <tr>\n",
              "      <th>1</th>\n",
              "      <td>11898</td>\n",
              "      <td>185</td>\n",
              "      <td>3</td>\n",
              "      <td>1119322216</td>\n",
              "      <td>Action|Crime|Thriller</td>\n",
              "      <td>computers</td>\n",
              "    </tr>\n",
              "    <tr>\n",
              "      <th>2</th>\n",
              "      <td>11898</td>\n",
              "      <td>185</td>\n",
              "      <td>3</td>\n",
              "      <td>1119322216</td>\n",
              "      <td>Action|Crime|Thriller</td>\n",
              "      <td>internet</td>\n",
              "    </tr>\n",
              "    <tr>\n",
              "      <th>3</th>\n",
              "      <td>16610</td>\n",
              "      <td>185</td>\n",
              "      <td>1</td>\n",
              "      <td>1139739742</td>\n",
              "      <td>Action|Crime|Thriller</td>\n",
              "      <td>Irwin Winkler</td>\n",
              "    </tr>\n",
              "    <tr>\n",
              "      <th>4</th>\n",
              "      <td>16610</td>\n",
              "      <td>185</td>\n",
              "      <td>1</td>\n",
              "      <td>1139739742</td>\n",
              "      <td>Action|Crime|Thriller</td>\n",
              "      <td>Sandra Bullock</td>\n",
              "    </tr>\n",
              "    <tr>\n",
              "      <th>5</th>\n",
              "      <td>33384</td>\n",
              "      <td>185</td>\n",
              "      <td>0.5</td>\n",
              "      <td>1074708337</td>\n",
              "      <td>Action|Crime|Thriller</td>\n",
              "      <td>computer cracker</td>\n",
              "    </tr>\n",
              "    <tr>\n",
              "      <th>6</th>\n",
              "      <td>33384</td>\n",
              "      <td>185</td>\n",
              "      <td>0.5</td>\n",
              "      <td>1074708337</td>\n",
              "      <td>Action|Crime|Thriller</td>\n",
              "      <td>computers</td>\n",
              "    </tr>\n",
              "    <tr>\n",
              "      <th>7</th>\n",
              "      <td>33384</td>\n",
              "      <td>185</td>\n",
              "      <td>0.5</td>\n",
              "      <td>1074708337</td>\n",
              "      <td>Action|Crime|Thriller</td>\n",
              "      <td>cyber-blackmail/intimidation</td>\n",
              "    </tr>\n",
              "    <tr>\n",
              "      <th>8</th>\n",
              "      <td>33384</td>\n",
              "      <td>185</td>\n",
              "      <td>0.5</td>\n",
              "      <td>1074708337</td>\n",
              "      <td>Action|Crime|Thriller</td>\n",
              "      <td>cyber-intimidation</td>\n",
              "    </tr>\n",
              "    <tr>\n",
              "      <th>9</th>\n",
              "      <td>45290</td>\n",
              "      <td>185</td>\n",
              "      <td>3</td>\n",
              "      <td>1179306741</td>\n",
              "      <td>Action|Crime|Thriller</td>\n",
              "      <td>hackers</td>\n",
              "    </tr>\n",
              "  </tbody>\n",
              "</table>\n",
              "</div>"
            ],
            "text/plain": [
              "  userId movieId  ...                 genres                           tag\n",
              "0  30167     122  ...         Comedy|Romance      Nudity (Topless - Brief)\n",
              "1  11898     185  ...  Action|Crime|Thriller                     computers\n",
              "2  11898     185  ...  Action|Crime|Thriller                      internet\n",
              "3  16610     185  ...  Action|Crime|Thriller                 Irwin Winkler\n",
              "4  16610     185  ...  Action|Crime|Thriller                Sandra Bullock\n",
              "5  33384     185  ...  Action|Crime|Thriller              computer cracker\n",
              "6  33384     185  ...  Action|Crime|Thriller                     computers\n",
              "7  33384     185  ...  Action|Crime|Thriller  cyber-blackmail/intimidation\n",
              "8  33384     185  ...  Action|Crime|Thriller            cyber-intimidation\n",
              "9  45290     185  ...  Action|Crime|Thriller                       hackers\n",
              "\n",
              "[10 rows x 6 columns]"
            ]
          },
          "metadata": {
            "tags": []
          },
          "execution_count": 4
        }
      ]
    },
    {
      "cell_type": "code",
      "metadata": {
        "colab": {
          "base_uri": "https://localhost:8080/"
        },
        "id": "_msI-7YFPNt7",
        "outputId": "d472167a-169e-4193-e6d8-e4f02d7f6744"
      },
      "source": [
        "print(len(data), len(tmp), len(tags))"
      ],
      "execution_count": 5,
      "outputs": [
        {
          "output_type": "stream",
          "text": [
            "10000054 44805 95580\n"
          ],
          "name": "stdout"
        }
      ]
    },
    {
      "cell_type": "code",
      "metadata": {
        "colab": {
          "base_uri": "https://localhost:8080/"
        },
        "id": "coryNA1VRCZb",
        "outputId": "4fb77abc-4e9f-4e08-f55f-6d876cfbdc04"
      },
      "source": [
        "len(tags['tag'].unique())"
      ],
      "execution_count": 6,
      "outputs": [
        {
          "output_type": "execute_result",
          "data": {
            "text/plain": [
              "16529"
            ]
          },
          "metadata": {
            "tags": []
          },
          "execution_count": 6
        }
      ]
    },
    {
      "cell_type": "code",
      "metadata": {
        "id": "hQWeIuQU9XNU"
      },
      "source": [
        "data['rating'] = pd.to_numeric(data['rating'])\n",
        "data['timestamp'] = pd.to_numeric(data['timestamp'])"
      ],
      "execution_count": 7,
      "outputs": []
    },
    {
      "cell_type": "code",
      "metadata": {
        "colab": {
          "base_uri": "https://localhost:8080/"
        },
        "id": "7nLQ1mQbmuli",
        "outputId": "f6f6ab15-f5d8-404c-aeeb-53c6c72b98a6"
      },
      "source": [
        "n_movies = len(data['movieId'].unique())\n",
        "n_users = len(data['userId'].unique())\n",
        "print(n_movies, n_users, len(rating))"
      ],
      "execution_count": 8,
      "outputs": [
        {
          "output_type": "stream",
          "text": [
            "10677 69878 10000054\n"
          ],
          "name": "stdout"
        }
      ]
    },
    {
      "cell_type": "code",
      "metadata": {
        "id": "KKLUnQJsGoLW"
      },
      "source": [
        "# preprocessing\n",
        "genres_split = data.genres.str.split('|').tolist()\n",
        "genres_unique = set()\n",
        "for movie_genres in genres_split:\n",
        "    for genre in movie_genres:\n",
        "        genres_unique.add(genre)\n",
        "genres2idx = {o:i+1 for i,o in enumerate(genres_unique)}\n",
        "genres_split = [[genres2idx[x] for x in movie_genres] for movie_genres in genres_split]\n",
        "padded_genres = tf.keras.preprocessing.sequence.pad_sequences(\n",
        "    genres_split, padding=\"post\"\n",
        ")\n",
        "\n",
        "users = data.userId.unique()\n",
        "movies = data.movieId.unique()\n",
        "\n",
        "userid2idx = {o:i for i,o in enumerate(users)}\n",
        "movieid2idx = {o:i for i,o in enumerate(movies)}\n",
        "\n",
        "data['userId'] = data['userId'].apply(lambda x: userid2idx[x])\n",
        "data['movieId'] = data['movieId'].apply(lambda x: movieid2idx[x])\n",
        "\n",
        "data = data.drop(columns=['genres'])\n",
        "for i in range(len(padded_genres[0])):\n",
        "    data['genre'+str(i)] = padded_genres[:,i]\n",
        "\n",
        "min_timestamp = pd.DataFrame(data.loc[:,[\"movieId\",\"timestamp\"]].groupby(['movieId'], as_index=False).min())\n",
        "min_timestamp = min_timestamp.sort_values(by=[\"movieId\"], axis=0)\n",
        "min_timestamp = min_timestamp.rename(columns={\"timestamp\": \"min_timestamp\"})\n",
        "data = pd.merge(data, min_timestamp)\n",
        "data['timestamp'] = data['timestamp'] - data['min_timestamp']\n",
        "data['timestamp'] = data['timestamp'] / (60 * 60 * 24 * 365)\n",
        "data = data.drop(columns=['min_timestamp'])"
      ],
      "execution_count": 9,
      "outputs": []
    },
    {
      "cell_type": "code",
      "metadata": {
        "colab": {
          "base_uri": "https://localhost:8080/",
          "height": 359
        },
        "id": "p6Ci3Ug95l5U",
        "outputId": "d155f03c-c311-479f-d532-cbb32823ad81"
      },
      "source": [
        "split = np.random.rand(len(data)) < 0.9\n",
        "train = data[split]\n",
        "valid = data[~split]\n",
        "data.head(10)"
      ],
      "execution_count": 10,
      "outputs": [
        {
          "output_type": "execute_result",
          "data": {
            "text/html": [
              "<div>\n",
              "<style scoped>\n",
              "    .dataframe tbody tr th:only-of-type {\n",
              "        vertical-align: middle;\n",
              "    }\n",
              "\n",
              "    .dataframe tbody tr th {\n",
              "        vertical-align: top;\n",
              "    }\n",
              "\n",
              "    .dataframe thead th {\n",
              "        text-align: right;\n",
              "    }\n",
              "</style>\n",
              "<table border=\"1\" class=\"dataframe\">\n",
              "  <thead>\n",
              "    <tr style=\"text-align: right;\">\n",
              "      <th></th>\n",
              "      <th>userId</th>\n",
              "      <th>movieId</th>\n",
              "      <th>rating</th>\n",
              "      <th>timestamp</th>\n",
              "      <th>genre0</th>\n",
              "      <th>genre1</th>\n",
              "      <th>genre2</th>\n",
              "      <th>genre3</th>\n",
              "      <th>genre4</th>\n",
              "      <th>genre5</th>\n",
              "      <th>genre6</th>\n",
              "      <th>genre7</th>\n",
              "    </tr>\n",
              "  </thead>\n",
              "  <tbody>\n",
              "    <tr>\n",
              "      <th>0</th>\n",
              "      <td>0</td>\n",
              "      <td>0</td>\n",
              "      <td>5.0</td>\n",
              "      <td>0.347135</td>\n",
              "      <td>12</td>\n",
              "      <td>9</td>\n",
              "      <td>0</td>\n",
              "      <td>0</td>\n",
              "      <td>0</td>\n",
              "      <td>0</td>\n",
              "      <td>0</td>\n",
              "      <td>0</td>\n",
              "    </tr>\n",
              "    <tr>\n",
              "      <th>1</th>\n",
              "      <td>1</td>\n",
              "      <td>0</td>\n",
              "      <td>3.0</td>\n",
              "      <td>4.638027</td>\n",
              "      <td>12</td>\n",
              "      <td>9</td>\n",
              "      <td>0</td>\n",
              "      <td>0</td>\n",
              "      <td>0</td>\n",
              "      <td>0</td>\n",
              "      <td>0</td>\n",
              "      <td>0</td>\n",
              "    </tr>\n",
              "    <tr>\n",
              "      <th>2</th>\n",
              "      <td>2</td>\n",
              "      <td>0</td>\n",
              "      <td>2.5</td>\n",
              "      <td>9.015238</td>\n",
              "      <td>12</td>\n",
              "      <td>9</td>\n",
              "      <td>0</td>\n",
              "      <td>0</td>\n",
              "      <td>0</td>\n",
              "      <td>0</td>\n",
              "      <td>0</td>\n",
              "      <td>0</td>\n",
              "    </tr>\n",
              "    <tr>\n",
              "      <th>3</th>\n",
              "      <td>3</td>\n",
              "      <td>0</td>\n",
              "      <td>3.0</td>\n",
              "      <td>3.659976</td>\n",
              "      <td>12</td>\n",
              "      <td>9</td>\n",
              "      <td>0</td>\n",
              "      <td>0</td>\n",
              "      <td>0</td>\n",
              "      <td>0</td>\n",
              "      <td>0</td>\n",
              "      <td>0</td>\n",
              "    </tr>\n",
              "    <tr>\n",
              "      <th>4</th>\n",
              "      <td>4</td>\n",
              "      <td>0</td>\n",
              "      <td>4.5</td>\n",
              "      <td>8.702935</td>\n",
              "      <td>12</td>\n",
              "      <td>9</td>\n",
              "      <td>0</td>\n",
              "      <td>0</td>\n",
              "      <td>0</td>\n",
              "      <td>0</td>\n",
              "      <td>0</td>\n",
              "      <td>0</td>\n",
              "    </tr>\n",
              "    <tr>\n",
              "      <th>5</th>\n",
              "      <td>5</td>\n",
              "      <td>0</td>\n",
              "      <td>3.0</td>\n",
              "      <td>0.519782</td>\n",
              "      <td>12</td>\n",
              "      <td>9</td>\n",
              "      <td>0</td>\n",
              "      <td>0</td>\n",
              "      <td>0</td>\n",
              "      <td>0</td>\n",
              "      <td>0</td>\n",
              "      <td>0</td>\n",
              "    </tr>\n",
              "    <tr>\n",
              "      <th>6</th>\n",
              "      <td>6</td>\n",
              "      <td>0</td>\n",
              "      <td>3.0</td>\n",
              "      <td>0.520016</td>\n",
              "      <td>12</td>\n",
              "      <td>9</td>\n",
              "      <td>0</td>\n",
              "      <td>0</td>\n",
              "      <td>0</td>\n",
              "      <td>0</td>\n",
              "      <td>0</td>\n",
              "      <td>0</td>\n",
              "    </tr>\n",
              "    <tr>\n",
              "      <th>7</th>\n",
              "      <td>7</td>\n",
              "      <td>0</td>\n",
              "      <td>3.0</td>\n",
              "      <td>0.347532</td>\n",
              "      <td>12</td>\n",
              "      <td>9</td>\n",
              "      <td>0</td>\n",
              "      <td>0</td>\n",
              "      <td>0</td>\n",
              "      <td>0</td>\n",
              "      <td>0</td>\n",
              "      <td>0</td>\n",
              "    </tr>\n",
              "    <tr>\n",
              "      <th>8</th>\n",
              "      <td>8</td>\n",
              "      <td>0</td>\n",
              "      <td>1.0</td>\n",
              "      <td>4.052296</td>\n",
              "      <td>12</td>\n",
              "      <td>9</td>\n",
              "      <td>0</td>\n",
              "      <td>0</td>\n",
              "      <td>0</td>\n",
              "      <td>0</td>\n",
              "      <td>0</td>\n",
              "      <td>0</td>\n",
              "    </tr>\n",
              "    <tr>\n",
              "      <th>9</th>\n",
              "      <td>9</td>\n",
              "      <td>0</td>\n",
              "      <td>3.0</td>\n",
              "      <td>3.736893</td>\n",
              "      <td>12</td>\n",
              "      <td>9</td>\n",
              "      <td>0</td>\n",
              "      <td>0</td>\n",
              "      <td>0</td>\n",
              "      <td>0</td>\n",
              "      <td>0</td>\n",
              "      <td>0</td>\n",
              "    </tr>\n",
              "  </tbody>\n",
              "</table>\n",
              "</div>"
            ],
            "text/plain": [
              "   userId  movieId  rating  timestamp  ...  genre4  genre5  genre6  genre7\n",
              "0       0        0     5.0   0.347135  ...       0       0       0       0\n",
              "1       1        0     3.0   4.638027  ...       0       0       0       0\n",
              "2       2        0     2.5   9.015238  ...       0       0       0       0\n",
              "3       3        0     3.0   3.659976  ...       0       0       0       0\n",
              "4       4        0     4.5   8.702935  ...       0       0       0       0\n",
              "5       5        0     3.0   0.519782  ...       0       0       0       0\n",
              "6       6        0     3.0   0.520016  ...       0       0       0       0\n",
              "7       7        0     3.0   0.347532  ...       0       0       0       0\n",
              "8       8        0     1.0   4.052296  ...       0       0       0       0\n",
              "9       9        0     3.0   3.736893  ...       0       0       0       0\n",
              "\n",
              "[10 rows x 12 columns]"
            ]
          },
          "metadata": {
            "tags": []
          },
          "execution_count": 10
        }
      ]
    },
    {
      "cell_type": "code",
      "metadata": {
        "colab": {
          "base_uri": "https://localhost:8080/"
        },
        "id": "uYMOrCmXmogD",
        "outputId": "719620a4-4ff2-47bd-e3e1-c8427c15f897"
      },
      "source": [
        "n_user_embedding = 64\n",
        "n_movie_embedding = int(n_user_embedding * 0.75)\n",
        "n_genres_embedding = int(n_user_embedding * 0.25)\n",
        "embedding_l2 = 1e-6 * 5                                  # regularization\n",
        "dense_l2 = 1e-4 * 5                                      # regularization\n",
        "keras.backend.clear_session()\n",
        "\n",
        "user_input = Input(shape=(1,), name='user_input', dtype='int64')\n",
        "movie_input = Input(shape=(1,), name='movie_input', dtype='int64')\n",
        "genres_input = Input(shape=(len(padded_genres[0]),), name='genres_input', dtype='int64') # input = (10, 1)\n",
        "time_input = Input(shape=(1,), name='time_input', dtype='float32')\n",
        "time_root = tf.math.sqrt(time_input)\n",
        "time_square = tf.math.square(time_input)\n",
        "time_vector = tf.concat([time_input, time_root, time_square], 1)\n",
        "\n",
        "user_embedding = Embedding(n_users, n_user_embedding, name='user_embedding', embeddings_regularizer=regularizers.l2(embedding_l2))(user_input)\n",
        "user_vector = Flatten()(user_embedding)\n",
        "movie_embedding = Embedding(n_movies, n_movie_embedding, name='movie_embedding', embeddings_regularizer=regularizers.l2(embedding_l2))(movie_input)\n",
        "movie_vector = Flatten()(movie_embedding)\n",
        "genres_embedding = Embedding(len(genres_unique)+1, n_genres_embedding, mask_zero=True, name='genres_embedding', embeddings_regularizer=regularizers.l2(embedding_l2/(len(genres_unique)+1)))(genres_input)\n",
        "genres_average_embedding = GlobalAveragePooling1D()(genres_embedding)\n",
        "genres_vector = Flatten()(genres_average_embedding)\n",
        "\n",
        "concat_layer = tf.concat([user_vector, movie_vector, genres_vector, time_vector], 1, name='concat_layer')\n",
        "mlp_layer = Dense(32, activation='relu', kernel_regularizer=regularizers.l2(dense_l2))(concat_layer)\n",
        "\n",
        "user_embedding2 = Embedding(n_users, n_user_embedding, name='user_embedding2', embeddings_regularizer=regularizers.l2(embedding_l2))(user_input)\n",
        "user_vector2 = Flatten()(user_embedding2)\n",
        "movie_embedding2 = Embedding(n_movies, n_movie_embedding, name='movie_embedding2', embeddings_regularizer=regularizers.l2(embedding_l2))(movie_input)\n",
        "movie_vector2 = Flatten()(movie_embedding2)\n",
        "genres_embedding2 = Embedding(len(genres_unique)+1, n_genres_embedding, mask_zero=True, name='genres_embedding2', embeddings_regularizer=regularizers.l2(embedding_l2/(len(genres_unique)+1)))(genres_input)\n",
        "genres_average_embedding2 = GlobalAveragePooling1D()(genres_embedding2)\n",
        "genres_vector2 = Flatten()(genres_average_embedding2)\n",
        "matrix_factorization = Dot(axes=1)([user_vector2, tf.concat([movie_vector2, genres_vector2], 1)])\n",
        "\n",
        "output_layer = tf.concat([matrix_factorization, mlp_layer], 1)\n",
        "output = Dense(1, activation='sigmoid', kernel_regularizer=regularizers.l2(dense_l2))(output_layer)\n",
        "#output = output*4.5 + 0.5\n",
        "output = output*5.5\n",
        "\n",
        "model = Model([user_input, movie_input, time_input, genres_input], output)\n",
        "model.summary()"
      ],
      "execution_count": 25,
      "outputs": [
        {
          "output_type": "stream",
          "text": [
            "Model: \"model\"\n",
            "__________________________________________________________________________________________________\n",
            "Layer (type)                    Output Shape         Param #     Connected to                     \n",
            "==================================================================================================\n",
            "genres_input (InputLayer)       [(None, 8)]          0                                            \n",
            "__________________________________________________________________________________________________\n",
            "user_input (InputLayer)         [(None, 1)]          0                                            \n",
            "__________________________________________________________________________________________________\n",
            "movie_input (InputLayer)        [(None, 1)]          0                                            \n",
            "__________________________________________________________________________________________________\n",
            "genres_embedding2 (Embedding)   (None, 8, 16)        336         genres_input[0][0]               \n",
            "__________________________________________________________________________________________________\n",
            "genres_embedding (Embedding)    (None, 8, 16)        336         genres_input[0][0]               \n",
            "__________________________________________________________________________________________________\n",
            "time_input (InputLayer)         [(None, 1)]          0                                            \n",
            "__________________________________________________________________________________________________\n",
            "movie_embedding2 (Embedding)    (None, 1, 48)        512496      movie_input[0][0]                \n",
            "__________________________________________________________________________________________________\n",
            "global_average_pooling1d_1 (Glo (None, 16)           0           genres_embedding2[0][0]          \n",
            "__________________________________________________________________________________________________\n",
            "user_embedding (Embedding)      (None, 1, 64)        4472192     user_input[0][0]                 \n",
            "__________________________________________________________________________________________________\n",
            "movie_embedding (Embedding)     (None, 1, 48)        512496      movie_input[0][0]                \n",
            "__________________________________________________________________________________________________\n",
            "global_average_pooling1d (Globa (None, 16)           0           genres_embedding[0][0]           \n",
            "__________________________________________________________________________________________________\n",
            "tf.math.sqrt (TFOpLambda)       (None, 1)            0           time_input[0][0]                 \n",
            "__________________________________________________________________________________________________\n",
            "tf.math.square (TFOpLambda)     (None, 1)            0           time_input[0][0]                 \n",
            "__________________________________________________________________________________________________\n",
            "user_embedding2 (Embedding)     (None, 1, 64)        4472192     user_input[0][0]                 \n",
            "__________________________________________________________________________________________________\n",
            "flatten_4 (Flatten)             (None, 48)           0           movie_embedding2[0][0]           \n",
            "__________________________________________________________________________________________________\n",
            "flatten_5 (Flatten)             (None, 16)           0           global_average_pooling1d_1[0][0] \n",
            "__________________________________________________________________________________________________\n",
            "flatten (Flatten)               (None, 64)           0           user_embedding[0][0]             \n",
            "__________________________________________________________________________________________________\n",
            "flatten_1 (Flatten)             (None, 48)           0           movie_embedding[0][0]            \n",
            "__________________________________________________________________________________________________\n",
            "flatten_2 (Flatten)             (None, 16)           0           global_average_pooling1d[0][0]   \n",
            "__________________________________________________________________________________________________\n",
            "tf.concat (TFOpLambda)          (None, 3)            0           time_input[0][0]                 \n",
            "                                                                 tf.math.sqrt[0][0]               \n",
            "                                                                 tf.math.square[0][0]             \n",
            "__________________________________________________________________________________________________\n",
            "flatten_3 (Flatten)             (None, 64)           0           user_embedding2[0][0]            \n",
            "__________________________________________________________________________________________________\n",
            "tf.concat_2 (TFOpLambda)        (None, 64)           0           flatten_4[0][0]                  \n",
            "                                                                 flatten_5[0][0]                  \n",
            "__________________________________________________________________________________________________\n",
            "tf.concat_1 (TFOpLambda)        (None, 131)          0           flatten[0][0]                    \n",
            "                                                                 flatten_1[0][0]                  \n",
            "                                                                 flatten_2[0][0]                  \n",
            "                                                                 tf.concat[0][0]                  \n",
            "__________________________________________________________________________________________________\n",
            "dot (Dot)                       (None, 1)            0           flatten_3[0][0]                  \n",
            "                                                                 tf.concat_2[0][0]                \n",
            "__________________________________________________________________________________________________\n",
            "dense (Dense)                   (None, 32)           4224        tf.concat_1[0][0]                \n",
            "__________________________________________________________________________________________________\n",
            "tf.concat_3 (TFOpLambda)        (None, 33)           0           dot[0][0]                        \n",
            "                                                                 dense[0][0]                      \n",
            "__________________________________________________________________________________________________\n",
            "dense_1 (Dense)                 (None, 1)            34          tf.concat_3[0][0]                \n",
            "__________________________________________________________________________________________________\n",
            "tf.math.multiply (TFOpLambda)   (None, 1)            0           dense_1[0][0]                    \n",
            "==================================================================================================\n",
            "Total params: 9,974,306\n",
            "Trainable params: 9,974,306\n",
            "Non-trainable params: 0\n",
            "__________________________________________________________________________________________________\n"
          ],
          "name": "stdout"
        }
      ]
    },
    {
      "cell_type": "code",
      "metadata": {
        "id": "i5kIoxDAk6hq"
      },
      "source": [
        "model.compile(optimizer=Adam(0.001), loss='mse')\n",
        "batch_size = 4096*8\n",
        "epochs = 128"
      ],
      "execution_count": 26,
      "outputs": []
    },
    {
      "cell_type": "code",
      "metadata": {
        "colab": {
          "base_uri": "https://localhost:8080/"
        },
        "id": "hl-hZWQ_pqJ0",
        "outputId": "443803b0-af42-4d22-b19a-ced942021153"
      },
      "source": [
        "callback = tf.keras.callbacks.EarlyStopping(monitor='val_loss', patience=1, restore_best_weights=True)\n",
        "history = model.fit([train.userId, train.movieId, train.timestamp, train.iloc[:,4:12]],train.rating,\n",
        "                batch_size=batch_size, epochs=epochs, callbacks=[callback],\n",
        "                validation_data = ([valid.userId, valid.movieId, valid.timestamp, valid.iloc[:,4:12]],valid.rating), verbose = 1)"
      ],
      "execution_count": 27,
      "outputs": [
        {
          "output_type": "stream",
          "text": [
            "Epoch 1/128\n",
            "275/275 [==============================] - 51s 177ms/step - loss: 1.0507 - val_loss: 0.7683\n",
            "Epoch 2/128\n",
            "275/275 [==============================] - 48s 173ms/step - loss: 0.7455 - val_loss: 0.7154\n",
            "Epoch 3/128\n",
            "275/275 [==============================] - 49s 178ms/step - loss: 0.6823 - val_loss: 0.6963\n",
            "Epoch 4/128\n",
            "275/275 [==============================] - 48s 174ms/step - loss: 0.6431 - val_loss: 0.6893\n",
            "Epoch 5/128\n",
            "275/275 [==============================] - 48s 176ms/step - loss: 0.6137 - val_loss: 0.6885\n",
            "Epoch 6/128\n",
            "275/275 [==============================] - 49s 177ms/step - loss: 0.5878 - val_loss: 0.6913\n"
          ],
          "name": "stdout"
        }
      ]
    },
    {
      "cell_type": "code",
      "metadata": {
        "colab": {
          "base_uri": "https://localhost:8080/"
        },
        "id": "xe1nfcExa_nW",
        "outputId": "9e8733e3-48ba-4103-eb0f-94973453f2a8"
      },
      "source": [
        "valid_predictions = model.predict([valid.userId, valid.movieId, valid.timestamp, valid.iloc[:,4:12]], batch_size = batch_size)\n",
        "for i in range(len(valid_predictions)):\n",
        "    x = valid_predictions[i]\n",
        "    if x < 0.5:\n",
        "        x = 0.5\n",
        "    elif x > 5:\n",
        "        x = 5\n",
        "    valid_predictions[i] = x\n",
        "test_rmse = mean_squared_error(valid.rating, valid_predictions, squared=False) # squared=False -> RMSE\n",
        "print(test_rmse)"
      ],
      "execution_count": 29,
      "outputs": [
        {
          "output_type": "stream",
          "text": [
            "0.7877052634233404\n"
          ],
          "name": "stdout"
        }
      ]
    }
  ]
}