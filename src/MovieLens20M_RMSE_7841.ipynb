{
  "nbformat": 4,
  "nbformat_minor": 0,
  "metadata": {
    "colab": {
      "name": "MovieLens20M_RMSE_7907.ipynb",
      "provenance": [],
      "collapsed_sections": []
    },
    "kernelspec": {
      "name": "python3",
      "display_name": "Python 3"
    },
    "language_info": {
      "name": "python"
    }
  },
  "cells": [
    {
      "cell_type": "code",
      "metadata": {
        "colab": {
          "base_uri": "https://localhost:8080/"
        },
        "id": "6_UeyGir_6lg",
        "outputId": "58cc787a-a9f6-4384-fe53-7822f9153b2d"
      },
      "source": [
        "pip install keras-rectified-adam"
      ],
      "execution_count": 1,
      "outputs": [
        {
          "output_type": "stream",
          "text": [
            "Requirement already satisfied: keras-rectified-adam in /usr/local/lib/python3.7/dist-packages (0.19.0)\n",
            "Requirement already satisfied: Keras in /usr/local/lib/python3.7/dist-packages (from keras-rectified-adam) (2.4.3)\n",
            "Requirement already satisfied: numpy in /usr/local/lib/python3.7/dist-packages (from keras-rectified-adam) (1.19.5)\n",
            "Requirement already satisfied: pyyaml in /usr/local/lib/python3.7/dist-packages (from Keras->keras-rectified-adam) (3.13)\n",
            "Requirement already satisfied: scipy>=0.14 in /usr/local/lib/python3.7/dist-packages (from Keras->keras-rectified-adam) (1.4.1)\n",
            "Requirement already satisfied: h5py in /usr/local/lib/python3.7/dist-packages (from Keras->keras-rectified-adam) (3.1.0)\n",
            "Requirement already satisfied: cached-property in /usr/local/lib/python3.7/dist-packages (from h5py->Keras->keras-rectified-adam) (1.5.2)\n"
          ],
          "name": "stdout"
        }
      ]
    },
    {
      "cell_type": "code",
      "metadata": {
        "id": "Qd0JVqeKa2K2",
        "colab": {
          "base_uri": "https://localhost:8080/"
        },
        "outputId": "44ec72ee-e816-4ec3-81b2-69fb07eae578"
      },
      "source": [
        "import keras\n",
        "import os, sys\n",
        "import numpy as np\n",
        "import pandas as pd\n",
        "import tensorflow as tf\n",
        "from google.colab import drive\n",
        "from sklearn.metrics import mean_squared_error\n",
        "from keras.models import Model\n",
        "from keras.layers import Flatten, Dense, Input, Embedding, Dot\n",
        "from keras.layers import GlobalAveragePooling1D, Dropout, BatchNormalization\n",
        "from keras.optimizers import Adam\n",
        "from keras_radam import RAdam\n",
        "\n",
        "drive.mount('/content/drive')"
      ],
      "execution_count": 2,
      "outputs": [
        {
          "output_type": "stream",
          "text": [
            "Drive already mounted at /content/drive; to attempt to forcibly remount, call drive.mount(\"/content/drive\", force_remount=True).\n"
          ],
          "name": "stdout"
        }
      ]
    },
    {
      "cell_type": "code",
      "metadata": {
        "id": "fdYbaEJlWhFB"
      },
      "source": [
        "movie = pd.read_csv('/content/drive/My Drive/MovieLens/movie.csv')\n",
        "rating = pd.read_csv('/content/drive/My Drive/MovieLens/rating.csv')\n",
        "movie = movie.loc[:,[\"movieId\",\"genres\"]]\n",
        "rating = rating.loc[:,[\"userId\",\"movieId\",\"rating\"]]\n",
        "data = pd.merge(rating, movie)"
      ],
      "execution_count": 3,
      "outputs": []
    },
    {
      "cell_type": "code",
      "metadata": {
        "colab": {
          "base_uri": "https://localhost:8080/"
        },
        "id": "7nLQ1mQbmuli",
        "outputId": "a738a37b-318f-4567-8f38-0ee266783807"
      },
      "source": [
        "n_movies = len(data['movieId'].unique())\n",
        "n_users = len(data['userId'].unique())\n",
        "print(n_movies, n_users, len(rating))"
      ],
      "execution_count": 4,
      "outputs": [
        {
          "output_type": "stream",
          "text": [
            "26744 138493 20000263\n"
          ],
          "name": "stdout"
        }
      ]
    },
    {
      "cell_type": "code",
      "metadata": {
        "id": "KKLUnQJsGoLW",
        "colab": {
          "base_uri": "https://localhost:8080/",
          "height": 359
        },
        "outputId": "f5a80c33-5002-4162-ccc6-0059a9b48171"
      },
      "source": [
        "genres_split = data.genres.str.split('|').tolist()\n",
        "genres_unique = set()\n",
        "for movie_genres in genres_split:\n",
        "    for genre in movie_genres:\n",
        "        genres_unique.add(genre)\n",
        "genres2idx = {o:i+1 for i,o in enumerate(genres_unique)}\n",
        "genres_split = [[genres2idx[x] for x in movie_genres] for movie_genres in genres_split]\n",
        "padded_genres = tf.keras.preprocessing.sequence.pad_sequences(\n",
        "    genres_split, padding=\"post\"\n",
        ")\n",
        "\n",
        "users = data.userId.unique()\n",
        "movies = data.movieId.unique()\n",
        "\n",
        "userid2idx = {o:i for i,o in enumerate(users)}\n",
        "movieid2idx = {o:i for i,o in enumerate(movies)}\n",
        "\n",
        "data['userId'] = data['userId'].apply(lambda x: userid2idx[x])\n",
        "data['movieId'] = data['movieId'].apply(lambda x: movieid2idx[x])\n",
        "\n",
        "data = data.drop(columns=['genres'])\n",
        "for i in range(10):\n",
        "    data['genre'+str(i)] = padded_genres[:,i]\n",
        "\n",
        "split = np.random.rand(len(data)) < 0.9\n",
        "train = data[split]\n",
        "valid = data[~split]\n",
        "data.head(10)"
      ],
      "execution_count": 5,
      "outputs": [
        {
          "output_type": "execute_result",
          "data": {
            "text/html": [
              "<div>\n",
              "<style scoped>\n",
              "    .dataframe tbody tr th:only-of-type {\n",
              "        vertical-align: middle;\n",
              "    }\n",
              "\n",
              "    .dataframe tbody tr th {\n",
              "        vertical-align: top;\n",
              "    }\n",
              "\n",
              "    .dataframe thead th {\n",
              "        text-align: right;\n",
              "    }\n",
              "</style>\n",
              "<table border=\"1\" class=\"dataframe\">\n",
              "  <thead>\n",
              "    <tr style=\"text-align: right;\">\n",
              "      <th></th>\n",
              "      <th>userId</th>\n",
              "      <th>movieId</th>\n",
              "      <th>rating</th>\n",
              "      <th>genre0</th>\n",
              "      <th>genre1</th>\n",
              "      <th>genre2</th>\n",
              "      <th>genre3</th>\n",
              "      <th>genre4</th>\n",
              "      <th>genre5</th>\n",
              "      <th>genre6</th>\n",
              "      <th>genre7</th>\n",
              "      <th>genre8</th>\n",
              "      <th>genre9</th>\n",
              "    </tr>\n",
              "  </thead>\n",
              "  <tbody>\n",
              "    <tr>\n",
              "      <th>0</th>\n",
              "      <td>0</td>\n",
              "      <td>0</td>\n",
              "      <td>3.5</td>\n",
              "      <td>1</td>\n",
              "      <td>7</td>\n",
              "      <td>9</td>\n",
              "      <td>0</td>\n",
              "      <td>0</td>\n",
              "      <td>0</td>\n",
              "      <td>0</td>\n",
              "      <td>0</td>\n",
              "      <td>0</td>\n",
              "      <td>0</td>\n",
              "    </tr>\n",
              "    <tr>\n",
              "      <th>1</th>\n",
              "      <td>1</td>\n",
              "      <td>0</td>\n",
              "      <td>3.0</td>\n",
              "      <td>1</td>\n",
              "      <td>7</td>\n",
              "      <td>9</td>\n",
              "      <td>0</td>\n",
              "      <td>0</td>\n",
              "      <td>0</td>\n",
              "      <td>0</td>\n",
              "      <td>0</td>\n",
              "      <td>0</td>\n",
              "      <td>0</td>\n",
              "    </tr>\n",
              "    <tr>\n",
              "      <th>2</th>\n",
              "      <td>2</td>\n",
              "      <td>0</td>\n",
              "      <td>3.0</td>\n",
              "      <td>1</td>\n",
              "      <td>7</td>\n",
              "      <td>9</td>\n",
              "      <td>0</td>\n",
              "      <td>0</td>\n",
              "      <td>0</td>\n",
              "      <td>0</td>\n",
              "      <td>0</td>\n",
              "      <td>0</td>\n",
              "      <td>0</td>\n",
              "    </tr>\n",
              "    <tr>\n",
              "      <th>3</th>\n",
              "      <td>3</td>\n",
              "      <td>0</td>\n",
              "      <td>3.0</td>\n",
              "      <td>1</td>\n",
              "      <td>7</td>\n",
              "      <td>9</td>\n",
              "      <td>0</td>\n",
              "      <td>0</td>\n",
              "      <td>0</td>\n",
              "      <td>0</td>\n",
              "      <td>0</td>\n",
              "      <td>0</td>\n",
              "      <td>0</td>\n",
              "    </tr>\n",
              "    <tr>\n",
              "      <th>4</th>\n",
              "      <td>4</td>\n",
              "      <td>0</td>\n",
              "      <td>3.0</td>\n",
              "      <td>1</td>\n",
              "      <td>7</td>\n",
              "      <td>9</td>\n",
              "      <td>0</td>\n",
              "      <td>0</td>\n",
              "      <td>0</td>\n",
              "      <td>0</td>\n",
              "      <td>0</td>\n",
              "      <td>0</td>\n",
              "      <td>0</td>\n",
              "    </tr>\n",
              "    <tr>\n",
              "      <th>5</th>\n",
              "      <td>5</td>\n",
              "      <td>0</td>\n",
              "      <td>3.0</td>\n",
              "      <td>1</td>\n",
              "      <td>7</td>\n",
              "      <td>9</td>\n",
              "      <td>0</td>\n",
              "      <td>0</td>\n",
              "      <td>0</td>\n",
              "      <td>0</td>\n",
              "      <td>0</td>\n",
              "      <td>0</td>\n",
              "      <td>0</td>\n",
              "    </tr>\n",
              "    <tr>\n",
              "      <th>6</th>\n",
              "      <td>6</td>\n",
              "      <td>0</td>\n",
              "      <td>1.0</td>\n",
              "      <td>1</td>\n",
              "      <td>7</td>\n",
              "      <td>9</td>\n",
              "      <td>0</td>\n",
              "      <td>0</td>\n",
              "      <td>0</td>\n",
              "      <td>0</td>\n",
              "      <td>0</td>\n",
              "      <td>0</td>\n",
              "      <td>0</td>\n",
              "    </tr>\n",
              "    <tr>\n",
              "      <th>7</th>\n",
              "      <td>7</td>\n",
              "      <td>0</td>\n",
              "      <td>3.5</td>\n",
              "      <td>1</td>\n",
              "      <td>7</td>\n",
              "      <td>9</td>\n",
              "      <td>0</td>\n",
              "      <td>0</td>\n",
              "      <td>0</td>\n",
              "      <td>0</td>\n",
              "      <td>0</td>\n",
              "      <td>0</td>\n",
              "      <td>0</td>\n",
              "    </tr>\n",
              "    <tr>\n",
              "      <th>8</th>\n",
              "      <td>8</td>\n",
              "      <td>0</td>\n",
              "      <td>2.0</td>\n",
              "      <td>1</td>\n",
              "      <td>7</td>\n",
              "      <td>9</td>\n",
              "      <td>0</td>\n",
              "      <td>0</td>\n",
              "      <td>0</td>\n",
              "      <td>0</td>\n",
              "      <td>0</td>\n",
              "      <td>0</td>\n",
              "      <td>0</td>\n",
              "    </tr>\n",
              "    <tr>\n",
              "      <th>9</th>\n",
              "      <td>9</td>\n",
              "      <td>0</td>\n",
              "      <td>4.0</td>\n",
              "      <td>1</td>\n",
              "      <td>7</td>\n",
              "      <td>9</td>\n",
              "      <td>0</td>\n",
              "      <td>0</td>\n",
              "      <td>0</td>\n",
              "      <td>0</td>\n",
              "      <td>0</td>\n",
              "      <td>0</td>\n",
              "      <td>0</td>\n",
              "    </tr>\n",
              "  </tbody>\n",
              "</table>\n",
              "</div>"
            ],
            "text/plain": [
              "   userId  movieId  rating  genre0  ...  genre6  genre7  genre8  genre9\n",
              "0       0        0     3.5       1  ...       0       0       0       0\n",
              "1       1        0     3.0       1  ...       0       0       0       0\n",
              "2       2        0     3.0       1  ...       0       0       0       0\n",
              "3       3        0     3.0       1  ...       0       0       0       0\n",
              "4       4        0     3.0       1  ...       0       0       0       0\n",
              "5       5        0     3.0       1  ...       0       0       0       0\n",
              "6       6        0     1.0       1  ...       0       0       0       0\n",
              "7       7        0     3.5       1  ...       0       0       0       0\n",
              "8       8        0     2.0       1  ...       0       0       0       0\n",
              "9       9        0     4.0       1  ...       0       0       0       0\n",
              "\n",
              "[10 rows x 13 columns]"
            ]
          },
          "metadata": {
            "tags": []
          },
          "execution_count": 5
        }
      ]
    },
    {
      "cell_type": "code",
      "metadata": {
        "colab": {
          "base_uri": "https://localhost:8080/"
        },
        "id": "uYMOrCmXmogD",
        "outputId": "7d16ae5d-d0cc-46da-fbb2-76c1bc3e2172"
      },
      "source": [
        "n_user_embedding = 32\n",
        "n_movie_embedding = int(n_user_embedding * 0.75)\n",
        "n_genres_embedding = int(n_user_embedding * 0.25)\n",
        "keras.backend.clear_session()\n",
        "\n",
        "user_input = Input(shape=(1,), name='user_input', dtype='int64')\n",
        "user_embedding = Embedding(n_users, n_user_embedding, name='user_embedding')(user_input)\n",
        "user_vector = Flatten()(user_embedding)\n",
        "\n",
        "movie_input = Input(shape=(1,), name='movie_input', dtype='int64')\n",
        "movie_embedding = Embedding(n_movies, n_movie_embedding, name='movie_embedding')(movie_input)\n",
        "movie_vector = Flatten()(movie_embedding)\n",
        "\n",
        "genres_input = Input(shape=(len(padded_genres[0]),), name='genres_input', dtype='int64') # input = (10, 1)\n",
        "genres_embedding = Embedding(len(genres_unique)+1, n_genres_embedding, mask_zero=True, name='genres_embedding')(genres_input) # input = 21\n",
        "genres_average_embedding = GlobalAveragePooling1D()(genres_embedding)\n",
        "genres_vector = Flatten()(genres_average_embedding)\n",
        "\n",
        "concat_layer = tf.concat([user_vector, movie_vector, genres_vector], 1, name='concat_layer')\n",
        "concat_vector = BatchNormalization()(concat_layer)\n",
        "mlp_layer = Dense(16, activation='relu')(concat_layer)\n",
        "\n",
        "user_embedding2 = Embedding(n_users, n_user_embedding, name='user_embedding2')(user_input)\n",
        "user_vector2 = Flatten()(user_embedding2)\n",
        "movie_embedding2 = Embedding(n_movies, n_movie_embedding, name='movie_embedding2')(movie_input)\n",
        "movie_vector2 = Flatten()(movie_embedding2)\n",
        "genres_embedding2 = Embedding(len(genres_unique)+1, n_genres_embedding, mask_zero=True, name='genres_embedding2')(genres_input) # input = 21\n",
        "genres_average_embedding2 = GlobalAveragePooling1D()(genres_embedding2)\n",
        "genres_vector2 = Flatten()(genres_average_embedding2)\n",
        "matrix_factorization = Dot(axes=1)([user_vector2, tf.concat([movie_vector2, genres_vector2], 1)])\n",
        "\n",
        "output_layer = tf.concat([matrix_factorization, mlp_layer], 1)\n",
        "output = Dense(1, activation='sigmoid')(output_layer)\n",
        "output = output*4.5 + 0.5\n",
        "\n",
        "model = Model([user_input, movie_input, genres_input], output)\n",
        "# age 추가 실험?\n",
        "model.summary()"
      ],
      "execution_count": 6,
      "outputs": [
        {
          "output_type": "stream",
          "text": [
            "Model: \"model\"\n",
            "__________________________________________________________________________________________________\n",
            "Layer (type)                    Output Shape         Param #     Connected to                     \n",
            "==================================================================================================\n",
            "genres_input (InputLayer)       [(None, 10)]         0                                            \n",
            "__________________________________________________________________________________________________\n",
            "user_input (InputLayer)         [(None, 1)]          0                                            \n",
            "__________________________________________________________________________________________________\n",
            "movie_input (InputLayer)        [(None, 1)]          0                                            \n",
            "__________________________________________________________________________________________________\n",
            "genres_embedding2 (Embedding)   (None, 10, 8)        168         genres_input[0][0]               \n",
            "__________________________________________________________________________________________________\n",
            "genres_embedding (Embedding)    (None, 10, 8)        168         genres_input[0][0]               \n",
            "__________________________________________________________________________________________________\n",
            "movie_embedding2 (Embedding)    (None, 1, 24)        641856      movie_input[0][0]                \n",
            "__________________________________________________________________________________________________\n",
            "global_average_pooling1d_1 (Glo (None, 8)            0           genres_embedding2[0][0]          \n",
            "__________________________________________________________________________________________________\n",
            "user_embedding (Embedding)      (None, 1, 32)        4431776     user_input[0][0]                 \n",
            "__________________________________________________________________________________________________\n",
            "movie_embedding (Embedding)     (None, 1, 24)        641856      movie_input[0][0]                \n",
            "__________________________________________________________________________________________________\n",
            "global_average_pooling1d (Globa (None, 8)            0           genres_embedding[0][0]           \n",
            "__________________________________________________________________________________________________\n",
            "user_embedding2 (Embedding)     (None, 1, 32)        4431776     user_input[0][0]                 \n",
            "__________________________________________________________________________________________________\n",
            "flatten_4 (Flatten)             (None, 24)           0           movie_embedding2[0][0]           \n",
            "__________________________________________________________________________________________________\n",
            "flatten_5 (Flatten)             (None, 8)            0           global_average_pooling1d_1[0][0] \n",
            "__________________________________________________________________________________________________\n",
            "flatten (Flatten)               (None, 32)           0           user_embedding[0][0]             \n",
            "__________________________________________________________________________________________________\n",
            "flatten_1 (Flatten)             (None, 24)           0           movie_embedding[0][0]            \n",
            "__________________________________________________________________________________________________\n",
            "flatten_2 (Flatten)             (None, 8)            0           global_average_pooling1d[0][0]   \n",
            "__________________________________________________________________________________________________\n",
            "flatten_3 (Flatten)             (None, 32)           0           user_embedding2[0][0]            \n",
            "__________________________________________________________________________________________________\n",
            "tf.concat_1 (TFOpLambda)        (None, 32)           0           flatten_4[0][0]                  \n",
            "                                                                 flatten_5[0][0]                  \n",
            "__________________________________________________________________________________________________\n",
            "tf.concat (TFOpLambda)          (None, 64)           0           flatten[0][0]                    \n",
            "                                                                 flatten_1[0][0]                  \n",
            "                                                                 flatten_2[0][0]                  \n",
            "__________________________________________________________________________________________________\n",
            "dot (Dot)                       (None, 1)            0           flatten_3[0][0]                  \n",
            "                                                                 tf.concat_1[0][0]                \n",
            "__________________________________________________________________________________________________\n",
            "dense (Dense)                   (None, 16)           1040        tf.concat[0][0]                  \n",
            "__________________________________________________________________________________________________\n",
            "tf.concat_2 (TFOpLambda)        (None, 17)           0           dot[0][0]                        \n",
            "                                                                 dense[0][0]                      \n",
            "__________________________________________________________________________________________________\n",
            "dense_1 (Dense)                 (None, 1)            18          tf.concat_2[0][0]                \n",
            "__________________________________________________________________________________________________\n",
            "tf.math.multiply (TFOpLambda)   (None, 1)            0           dense_1[0][0]                    \n",
            "__________________________________________________________________________________________________\n",
            "tf.__operators__.add (TFOpLambd (None, 1)            0           tf.math.multiply[0][0]           \n",
            "==================================================================================================\n",
            "Total params: 10,148,658\n",
            "Trainable params: 10,148,658\n",
            "Non-trainable params: 0\n",
            "__________________________________________________________________________________________________\n"
          ],
          "name": "stdout"
        }
      ]
    },
    {
      "cell_type": "code",
      "metadata": {
        "id": "b8iU8TEhCXhj",
        "colab": {
          "base_uri": "https://localhost:8080/"
        },
        "outputId": "fd322542-968e-4780-d761-e08c58d948db"
      },
      "source": [
        "model.compile(optimizer=Adam(), loss='mse')\n",
        "batch_size = 4096*8\n",
        "epochs=10\n",
        "\n",
        "history = model.fit([train.userId, train.movieId, train.iloc[:,3:13]],train.rating,\n",
        "                batch_size=batch_size, epochs=epochs,\n",
        "                validation_data = ([valid.userId, valid.movieId, valid.iloc[:,3:13]],valid.rating), verbose = 1)"
      ],
      "execution_count": null,
      "outputs": [
        {
          "output_type": "stream",
          "text": [
            "Epoch 1/20\n",
            "550/550 [==============================] - 127s 199ms/step - loss: 0.9940 - val_loss: 0.6937\n",
            "Epoch 2/20\n",
            "550/550 [==============================] - 110s 200ms/step - loss: 0.6544 - val_loss: 0.6287\n",
            "Epoch 3/20\n",
            "550/550 [==============================] - 110s 199ms/step - loss: 0.5592 - val_loss: 0.6149\n",
            "Epoch 4/20\n",
            "550/550 [==============================] - 107s 195ms/step - loss: 0.5053 - val_loss: 0.6175\n",
            "Epoch 5/20\n",
            "392/550 [====================>.........] - ETA: 30s - loss: 0.4683"
          ],
          "name": "stdout"
        }
      ]
    },
    {
      "cell_type": "code",
      "metadata": {
        "id": "uIaD1yKK_hd3"
      },
      "source": [
        "valid_predictions = model.predict([valid.userId, valid.movieId, valid.iloc[:,3:13]], batch_size = batch_size)\n",
        "valid_rmse = mean_squared_error(valid.rating, valid_predictions, squared=False) # squared=False -> RMSE\n",
        "print(valid_rmse)"
      ],
      "execution_count": null,
      "outputs": []
    }
  ]
}