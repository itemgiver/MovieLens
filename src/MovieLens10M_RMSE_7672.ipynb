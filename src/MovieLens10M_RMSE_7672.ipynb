{
  "nbformat": 4,
  "nbformat_minor": 0,
  "metadata": {
    "colab": {
      "name": "MovieLens10M_RMSE_7672.ipynb",
      "provenance": [],
      "collapsed_sections": []
    },
    "kernelspec": {
      "display_name": "Python 3",
      "name": "python3"
    },
    "language_info": {
      "name": "python"
    },
    "accelerator": "GPU"
  },
  "cells": [
    {
      "cell_type": "code",
      "metadata": {
        "colab": {
          "base_uri": "https://localhost:8080/"
        },
        "id": "Qd0JVqeKa2K2",
        "outputId": "34b81e4a-a444-461d-a538-3d7ee089d9ec"
      },
      "source": [
        "import keras\n",
        "import os, sys\n",
        "import numpy as np\n",
        "import pandas as pd\n",
        "import tensorflow as tf\n",
        "import keras.backend as K\n",
        "import matplotlib.pyplot as plt\n",
        "from google.colab import drive\n",
        "from sklearn.metrics import mean_squared_error\n",
        "from keras.models import Model\n",
        "from tensorflow.keras import regularizers\n",
        "from keras.layers import Flatten, Dense, Input, Embedding, Dot\n",
        "from keras.layers import GlobalAveragePooling1D, MaxPooling1D, Dropout, BatchNormalization\n",
        "\n",
        "drive.mount('/content/drive')"
      ],
      "execution_count": 1,
      "outputs": [
        {
          "output_type": "stream",
          "name": "stdout",
          "text": [
            "Drive already mounted at /content/drive; to attempt to forcibly remount, call drive.mount(\"/content/drive\", force_remount=True).\n"
          ]
        }
      ]
    },
    {
      "cell_type": "code",
      "metadata": {
        "colab": {
          "base_uri": "https://localhost:8080/"
        },
        "id": "ZLiUf7ck0-fh",
        "outputId": "5b64d03e-3d96-40c9-bc4c-7309665d3e0b"
      },
      "source": [
        "# load data\n",
        "movie = [i.strip().split(\"::\") for i in open(\"/content/drive/My Drive/MovieLens10M/movies.dat\").readlines()]\n",
        "movie = pd.DataFrame(movie)\n",
        "movie = movie.rename(columns={0: \"movieId\", 1: \"title\", 2: \"genres\"})\n",
        "rating = [i.strip().split(\"::\") for i in open(\"/content/drive/My Drive/MovieLens10M/ratings.dat\").readlines()]\n",
        "rating = pd.DataFrame(rating)\n",
        "rating = rating.rename(columns={0: \"userId\", 1: \"movieId\", 2: \"rating\", 3: \"timestamp\"})\n",
        "movie = movie.loc[:,[\"movieId\",\"genres\"]]\n",
        "rating = rating.loc[:,[\"userId\",\"movieId\",\"rating\",\"timestamp\"]]\n",
        "data = pd.merge(rating, movie)\n",
        "data['rating'] = pd.to_numeric(data['rating'])\n",
        "data['timestamp'] = pd.to_numeric(data['timestamp'])\n",
        "print(\"MovieLens\" + str(int(len(rating)/1000000)) + \"M dataset loaded\")\n",
        "del(movie)\n",
        "del(rating)"
      ],
      "execution_count": 2,
      "outputs": [
        {
          "output_type": "stream",
          "name": "stdout",
          "text": [
            "MovieLens10M dataset loaded\n"
          ]
        }
      ]
    },
    {
      "cell_type": "code",
      "metadata": {
        "colab": {
          "base_uri": "https://localhost:8080/",
          "height": 376
        },
        "id": "KKLUnQJsGoLW",
        "outputId": "289d1484-d022-4a45-a392-717e2f0d1ee4"
      },
      "source": [
        "# preprocessing\n",
        "n_movies = len(data['movieId'].unique())\n",
        "n_users = len(data['userId'].unique())\n",
        "genres_split = data.genres.str.split('|').tolist()\n",
        "genres_unique = set()\n",
        "for movie_genres in genres_split:\n",
        "    for genre in movie_genres:\n",
        "        genres_unique.add(genre)\n",
        "genres2idx = {o:i+1 for i,o in enumerate(genres_unique)}\n",
        "genres_split = [[genres2idx[x] for x in movie_genres] for movie_genres in genres_split]\n",
        "padded_genres = tf.keras.preprocessing.sequence.pad_sequences(\n",
        "    genres_split, padding=\"post\"\n",
        ")\n",
        "\n",
        "users = data.userId.unique()\n",
        "movies = data.movieId.unique()\n",
        "\n",
        "userid2idx = {o:i for i,o in enumerate(users)}\n",
        "movieid2idx = {o:i for i,o in enumerate(movies)}\n",
        "\n",
        "data['userId'] = data['userId'].apply(lambda x: userid2idx[x])\n",
        "data['movieId'] = data['movieId'].apply(lambda x: movieid2idx[x])\n",
        "del(userid2idx)\n",
        "del(movieid2idx)\n",
        "\n",
        "n_genres = len(padded_genres[0])\n",
        "data = data.drop(columns=['genres'])\n",
        "for i in range(n_genres):\n",
        "    data['genre'+str(i)] = padded_genres[:,i]\n",
        "del(genres_split)\n",
        "del(padded_genres)\n",
        "\n",
        "min_timestamp = pd.DataFrame(data.loc[:,[\"movieId\",\"timestamp\"]].groupby(['movieId'], as_index=False).min())\n",
        "min_timestamp = min_timestamp.sort_values(by=[\"movieId\"], axis=0)\n",
        "min_timestamp = min_timestamp.rename(columns={\"timestamp\": \"min_timestamp\"})\n",
        "data = pd.merge(data, min_timestamp)\n",
        "del(min_timestamp)\n",
        "data['timestamp'] = data['timestamp'] - data['min_timestamp']\n",
        "data['timestamp'] = data['timestamp'] / (60 * 60 * 24 * 365)\n",
        "data = data.drop(columns=['min_timestamp'])\n",
        "data['day'] = data['timestamp'] * 365 / (7 * 2)\n",
        "data['day'] = data['day'].apply(lambda x: int(x))\n",
        "days = data.day.unique()\n",
        "n_days = len(days)\n",
        "day2idx = {o:i for i,o in enumerate(days)}\n",
        "data['day'] = data['day'].apply(lambda x: day2idx[x])\n",
        "del(day2idx)\n",
        "print(n_movies, n_users, n_days)\n",
        "data.head(10)"
      ],
      "execution_count": 3,
      "outputs": [
        {
          "output_type": "stream",
          "name": "stdout",
          "text": [
            "10677 69878 365\n"
          ]
        },
        {
          "output_type": "execute_result",
          "data": {
            "text/html": [
              "<div>\n",
              "<style scoped>\n",
              "    .dataframe tbody tr th:only-of-type {\n",
              "        vertical-align: middle;\n",
              "    }\n",
              "\n",
              "    .dataframe tbody tr th {\n",
              "        vertical-align: top;\n",
              "    }\n",
              "\n",
              "    .dataframe thead th {\n",
              "        text-align: right;\n",
              "    }\n",
              "</style>\n",
              "<table border=\"1\" class=\"dataframe\">\n",
              "  <thead>\n",
              "    <tr style=\"text-align: right;\">\n",
              "      <th></th>\n",
              "      <th>userId</th>\n",
              "      <th>movieId</th>\n",
              "      <th>rating</th>\n",
              "      <th>timestamp</th>\n",
              "      <th>genre0</th>\n",
              "      <th>genre1</th>\n",
              "      <th>genre2</th>\n",
              "      <th>genre3</th>\n",
              "      <th>genre4</th>\n",
              "      <th>genre5</th>\n",
              "      <th>genre6</th>\n",
              "      <th>genre7</th>\n",
              "      <th>day</th>\n",
              "    </tr>\n",
              "  </thead>\n",
              "  <tbody>\n",
              "    <tr>\n",
              "      <th>0</th>\n",
              "      <td>0</td>\n",
              "      <td>0</td>\n",
              "      <td>5.0</td>\n",
              "      <td>0.347135</td>\n",
              "      <td>6</td>\n",
              "      <td>13</td>\n",
              "      <td>0</td>\n",
              "      <td>0</td>\n",
              "      <td>0</td>\n",
              "      <td>0</td>\n",
              "      <td>0</td>\n",
              "      <td>0</td>\n",
              "      <td>0</td>\n",
              "    </tr>\n",
              "    <tr>\n",
              "      <th>1</th>\n",
              "      <td>1</td>\n",
              "      <td>0</td>\n",
              "      <td>3.0</td>\n",
              "      <td>4.638027</td>\n",
              "      <td>6</td>\n",
              "      <td>13</td>\n",
              "      <td>0</td>\n",
              "      <td>0</td>\n",
              "      <td>0</td>\n",
              "      <td>0</td>\n",
              "      <td>0</td>\n",
              "      <td>0</td>\n",
              "      <td>1</td>\n",
              "    </tr>\n",
              "    <tr>\n",
              "      <th>2</th>\n",
              "      <td>2</td>\n",
              "      <td>0</td>\n",
              "      <td>2.5</td>\n",
              "      <td>9.015238</td>\n",
              "      <td>6</td>\n",
              "      <td>13</td>\n",
              "      <td>0</td>\n",
              "      <td>0</td>\n",
              "      <td>0</td>\n",
              "      <td>0</td>\n",
              "      <td>0</td>\n",
              "      <td>0</td>\n",
              "      <td>2</td>\n",
              "    </tr>\n",
              "    <tr>\n",
              "      <th>3</th>\n",
              "      <td>3</td>\n",
              "      <td>0</td>\n",
              "      <td>3.0</td>\n",
              "      <td>3.659976</td>\n",
              "      <td>6</td>\n",
              "      <td>13</td>\n",
              "      <td>0</td>\n",
              "      <td>0</td>\n",
              "      <td>0</td>\n",
              "      <td>0</td>\n",
              "      <td>0</td>\n",
              "      <td>0</td>\n",
              "      <td>3</td>\n",
              "    </tr>\n",
              "    <tr>\n",
              "      <th>4</th>\n",
              "      <td>4</td>\n",
              "      <td>0</td>\n",
              "      <td>4.5</td>\n",
              "      <td>8.702935</td>\n",
              "      <td>6</td>\n",
              "      <td>13</td>\n",
              "      <td>0</td>\n",
              "      <td>0</td>\n",
              "      <td>0</td>\n",
              "      <td>0</td>\n",
              "      <td>0</td>\n",
              "      <td>0</td>\n",
              "      <td>4</td>\n",
              "    </tr>\n",
              "    <tr>\n",
              "      <th>5</th>\n",
              "      <td>5</td>\n",
              "      <td>0</td>\n",
              "      <td>3.0</td>\n",
              "      <td>0.519782</td>\n",
              "      <td>6</td>\n",
              "      <td>13</td>\n",
              "      <td>0</td>\n",
              "      <td>0</td>\n",
              "      <td>0</td>\n",
              "      <td>0</td>\n",
              "      <td>0</td>\n",
              "      <td>0</td>\n",
              "      <td>5</td>\n",
              "    </tr>\n",
              "    <tr>\n",
              "      <th>6</th>\n",
              "      <td>6</td>\n",
              "      <td>0</td>\n",
              "      <td>3.0</td>\n",
              "      <td>0.520016</td>\n",
              "      <td>6</td>\n",
              "      <td>13</td>\n",
              "      <td>0</td>\n",
              "      <td>0</td>\n",
              "      <td>0</td>\n",
              "      <td>0</td>\n",
              "      <td>0</td>\n",
              "      <td>0</td>\n",
              "      <td>5</td>\n",
              "    </tr>\n",
              "    <tr>\n",
              "      <th>7</th>\n",
              "      <td>7</td>\n",
              "      <td>0</td>\n",
              "      <td>3.0</td>\n",
              "      <td>0.347532</td>\n",
              "      <td>6</td>\n",
              "      <td>13</td>\n",
              "      <td>0</td>\n",
              "      <td>0</td>\n",
              "      <td>0</td>\n",
              "      <td>0</td>\n",
              "      <td>0</td>\n",
              "      <td>0</td>\n",
              "      <td>0</td>\n",
              "    </tr>\n",
              "    <tr>\n",
              "      <th>8</th>\n",
              "      <td>8</td>\n",
              "      <td>0</td>\n",
              "      <td>1.0</td>\n",
              "      <td>4.052296</td>\n",
              "      <td>6</td>\n",
              "      <td>13</td>\n",
              "      <td>0</td>\n",
              "      <td>0</td>\n",
              "      <td>0</td>\n",
              "      <td>0</td>\n",
              "      <td>0</td>\n",
              "      <td>0</td>\n",
              "      <td>6</td>\n",
              "    </tr>\n",
              "    <tr>\n",
              "      <th>9</th>\n",
              "      <td>9</td>\n",
              "      <td>0</td>\n",
              "      <td>3.0</td>\n",
              "      <td>3.736893</td>\n",
              "      <td>6</td>\n",
              "      <td>13</td>\n",
              "      <td>0</td>\n",
              "      <td>0</td>\n",
              "      <td>0</td>\n",
              "      <td>0</td>\n",
              "      <td>0</td>\n",
              "      <td>0</td>\n",
              "      <td>7</td>\n",
              "    </tr>\n",
              "  </tbody>\n",
              "</table>\n",
              "</div>"
            ],
            "text/plain": [
              "   userId  movieId  rating  timestamp  ...  genre5  genre6  genre7  day\n",
              "0       0        0     5.0   0.347135  ...       0       0       0    0\n",
              "1       1        0     3.0   4.638027  ...       0       0       0    1\n",
              "2       2        0     2.5   9.015238  ...       0       0       0    2\n",
              "3       3        0     3.0   3.659976  ...       0       0       0    3\n",
              "4       4        0     4.5   8.702935  ...       0       0       0    4\n",
              "5       5        0     3.0   0.519782  ...       0       0       0    5\n",
              "6       6        0     3.0   0.520016  ...       0       0       0    5\n",
              "7       7        0     3.0   0.347532  ...       0       0       0    0\n",
              "8       8        0     1.0   4.052296  ...       0       0       0    6\n",
              "9       9        0     3.0   3.736893  ...       0       0       0    7\n",
              "\n",
              "[10 rows x 13 columns]"
            ]
          },
          "metadata": {},
          "execution_count": 3
        }
      ]
    },
    {
      "cell_type": "code",
      "metadata": {
        "id": "p6Ci3Ug95l5U"
      },
      "source": [
        "# split train and test data\n",
        "data = data.sample(frac=1) # shuffle data\n",
        "train = data[:int(len(data) * 0.9)]\n",
        "valid = data[int(len(data) * 0.9):]\n",
        "del(data)"
      ],
      "execution_count": 4,
      "outputs": []
    },
    {
      "cell_type": "code",
      "metadata": {
        "id": "uYMOrCmXmogD"
      },
      "source": [
        "# generate model\n",
        "embedding_l2 = 1e-7 * 6                                  # regularization\n",
        "dense_l2 = 1e-4 * 6                                      # regularization\n",
        "keras.backend.clear_session()\n",
        "\n",
        "user_input = Input(shape=(1,), name='user_input', dtype='int32')\n",
        "movie_input = Input(shape=(1,), name='movie_input', dtype='int32')\n",
        "genres_input = Input(shape=(n_genres,), name='genres_input', dtype='int32')\n",
        "day_input = Input(shape=(1,), name='day_input', dtype='int32')\n",
        "time_input = Input(shape=(1,), name='time_input', dtype='float32')\n",
        "time_root = tf.math.sqrt(time_input + 1.0)\n",
        "time_square = tf.math.square(time_input)\n",
        "time_vector = tf.concat([time_input, time_root, time_square], 1)\n",
        "\n",
        "def create_model(n_user_embedding):\n",
        "    n_movie_embedding = n_user_embedding\n",
        "    n_genres_embedding = int(n_user_embedding / 4)\n",
        "\n",
        "    user_embedding = Embedding(n_users, n_user_embedding, embeddings_regularizer=regularizers.l2(embedding_l2))(user_input)\n",
        "    user_vector = Flatten()(user_embedding)\n",
        "    movie_embedding = Embedding(n_movies, n_movie_embedding, embeddings_regularizer=regularizers.l2(embedding_l2))(movie_input)\n",
        "    movie_vector = Flatten()(movie_embedding)\n",
        "    genres_embedding = Embedding(len(genres_unique)+1, n_genres_embedding, mask_zero=True, embeddings_regularizer=regularizers.l2(embedding_l2/n_genres))(genres_input)\n",
        "    genres_average_embedding = GlobalAveragePooling1D()(genres_embedding)\n",
        "    genres_vector = Flatten()(genres_average_embedding)\n",
        "    day_embedding = Embedding(n_days, int(n_user_embedding/8), embeddings_regularizer=regularizers.l2(embedding_l2))(day_input)\n",
        "    day_vector = Flatten()(day_embedding)\n",
        "\n",
        "    concat_layer = tf.concat([user_vector, movie_vector, time_vector, genres_vector, day_vector], 1)\n",
        "    mlp_output = Dense(int(n_user_embedding/2), activation='relu', kernel_regularizer=regularizers.l2(dense_l2))(concat_layer)\n",
        "\n",
        "\n",
        "    user_embedding2 = Embedding(n_users, n_user_embedding, embeddings_regularizer=regularizers.l2(embedding_l2))(user_input)\n",
        "    user_vector2 = Flatten()(user_embedding2)\n",
        "    movie_embedding2 = Embedding(n_movies, n_movie_embedding, embeddings_regularizer=regularizers.l2(embedding_l2))(movie_input)\n",
        "    movie_vector2 = Flatten()(movie_embedding2)\n",
        "    MF = Dot(axes=1)([user_vector2, movie_vector2])\n",
        "\n",
        "\n",
        "    user_embedding3 = Embedding(n_users, n_user_embedding, embeddings_regularizer=regularizers.l2(embedding_l2))(user_input)\n",
        "    user_vector3 = Flatten()(user_embedding3)\n",
        "    movie_embedding3 = Embedding(n_movies, n_movie_embedding, embeddings_regularizer=regularizers.l2(embedding_l2))(movie_input)\n",
        "    movie_vector3 = Flatten()(movie_embedding3)\n",
        "    diff = tf.reduce_sum(tf.multiply(user_vector3, movie_vector3), axis=1)\n",
        "    diff = Flatten()(diff)\n",
        "\n",
        "    output_layer = tf.concat([mlp_output, MF, diff], 1)\n",
        "    return output_layer\n",
        "\n",
        "output_layer = tf.concat([create_model(16*x) for x in range(1,11)], 1)\n",
        "output = Dense(1, activation='sigmoid', kernel_regularizer=regularizers.l2(dense_l2))(output_layer)\n",
        "output = output*5.5\n",
        "\n",
        "model = Model([user_input, movie_input, time_input, genres_input, day_input], output)\n",
        "#model.summary()"
      ],
      "execution_count": 5,
      "outputs": []
    },
    {
      "cell_type": "code",
      "metadata": {
        "colab": {
          "base_uri": "https://localhost:8080/"
        },
        "id": "i5kIoxDAk6hq",
        "outputId": "7dfefc6d-d965-4b80-f47d-5504e4215c2f"
      },
      "source": [
        "# training\n",
        "def rmse (y_true, y_pred):\n",
        "    return K.sqrt(K.mean(K.square(y_pred - y_true)))\n",
        "\n",
        "model.compile(optimizer=tf.keras.optimizers.Adam(1e-3 / 2), loss='mse', metrics=[rmse])\n",
        "batch_size = 4096 * 8\n",
        "epochs = 5\n",
        "\n",
        "callback = tf.keras.callbacks.EarlyStopping(monitor='val_rmse', patience=1, restore_best_weights=True)\n",
        "history = model.fit([train.userId, train.movieId, train.timestamp, train.iloc[:,4:4+n_genres], train.day], train.rating,\n",
        "                batch_size=batch_size, epochs=epochs, callbacks=[callback],\n",
        "                validation_data = ([valid.userId, valid.movieId, valid.timestamp, valid.iloc[:,4:4+n_genres], valid.day], valid.rating), verbose = 1)"
      ],
      "execution_count": 6,
      "outputs": [
        {
          "output_type": "stream",
          "name": "stdout",
          "text": [
            "Epoch 1/5\n",
            "275/275 [==============================] - 116s 377ms/step - loss: 1.1228 - rmse: 0.9200 - val_loss: 0.8478 - val_rmse: 0.8618\n",
            "Epoch 2/5\n",
            "275/275 [==============================] - 100s 364ms/step - loss: 0.8038 - rmse: 0.8570 - val_loss: 0.7818 - val_rmse: 0.8559\n",
            "Epoch 3/5\n",
            "275/275 [==============================] - 100s 364ms/step - loss: 0.7392 - rmse: 0.8314 - val_loss: 0.7067 - val_rmse: 0.8105\n",
            "Epoch 4/5\n",
            "275/275 [==============================] - 100s 364ms/step - loss: 0.6185 - rmse: 0.7485 - val_loss: 0.6711 - val_rmse: 0.7785\n",
            "Epoch 5/5\n",
            "275/275 [==============================] - 100s 364ms/step - loss: 0.4623 - rmse: 0.6224 - val_loss: 0.6752 - val_rmse: 0.7693\n"
          ]
        }
      ]
    },
    {
      "cell_type": "code",
      "metadata": {
        "id": "-HJWsMyHJPra",
        "colab": {
          "base_uri": "https://localhost:8080/"
        },
        "outputId": "ecd40cf6-d58c-4a33-9bbe-cff733c18f1f"
      },
      "source": [
        "model.compile(optimizer=tf.keras.optimizers.Adam(1e-4), loss='mse', metrics=[rmse])\n",
        "history = model.fit([train.userId, train.movieId, train.timestamp, train.iloc[:,4:4+n_genres], train.day], train.rating,\n",
        "                batch_size=batch_size, epochs=1, callbacks=[callback],\n",
        "                validation_data = ([valid.userId, valid.movieId, valid.timestamp, valid.iloc[:,4:4+n_genres], valid.day], valid.rating), verbose = 1)"
      ],
      "execution_count": 7,
      "outputs": [
        {
          "output_type": "stream",
          "name": "stdout",
          "text": [
            "275/275 [==============================] - 113s 369ms/step - loss: 0.3317 - rmse: 0.4980 - val_loss: 0.6726 - val_rmse: 0.7673\n"
          ]
        }
      ]
    },
    {
      "cell_type": "code",
      "metadata": {
        "id": "D0p2p3KBU70k",
        "colab": {
          "base_uri": "https://localhost:8080/",
          "height": 384
        },
        "outputId": "5d34cc2c-8f67-4d98-b4fd-328a91a26bba"
      },
      "source": [
        "# check final RMSE\n",
        "valid_pred = model.predict([valid.userId, valid.movieId, valid.timestamp, valid.iloc[:,4:4+n_genres], valid.day], batch_size = batch_size)\n",
        "valid['pred'] = pd.DataFrame([float(x) for x in valid_pred], index=valid.index, columns=['pred'])\n",
        "valid['pred'] = valid['pred'].apply(lambda x: max(min(x, 5), 0.5))\n",
        "\n",
        "test_rmse = mean_squared_error(valid.rating, valid.pred, squared=False) # squared=False -> RMSE\n",
        "print(\"test_rmse = \" + str(test_rmse))\n",
        "plt.hist(valid['pred'] - valid['rating'])"
      ],
      "execution_count": 8,
      "outputs": [
        {
          "output_type": "stream",
          "name": "stdout",
          "text": [
            "test_rmse = 0.7672309642680405\n"
          ]
        },
        {
          "output_type": "execute_result",
          "data": {
            "text/plain": [
              "(array([2.20000e+01, 5.52000e+02, 9.47600e+03, 1.04836e+05, 4.17613e+05,\n",
              "        3.45878e+05, 9.57470e+04, 2.11920e+04, 4.31500e+03, 3.75000e+02]),\n",
              " array([-4.24071872e+00, -3.39189385e+00, -2.54306898e+00, -1.69424411e+00,\n",
              "        -8.45419240e-01,  3.40563059e-03,  8.52230501e-01,  1.70105537e+00,\n",
              "         2.54988024e+00,  3.39870511e+00,  4.24752998e+00]),\n",
              " <a list of 10 Patch objects>)"
            ]
          },
          "metadata": {},
          "execution_count": 8
        },
        {
          "output_type": "display_data",
          "data": {
            "image/png": "[encoded data removed]",
            "text/plain": [
              "<Figure size 432x288 with 1 Axes>"
            ]
          },
          "metadata": {
            "needs_background": "light"
          }
        }
      ]
    }
  ]
}